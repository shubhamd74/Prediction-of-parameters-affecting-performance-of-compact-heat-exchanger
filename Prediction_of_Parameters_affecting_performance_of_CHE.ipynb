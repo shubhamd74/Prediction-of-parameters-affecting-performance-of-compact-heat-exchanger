{
  "nbformat": 4,
  "nbformat_minor": 0,
  "metadata": {
    "colab": {
      "name": "Prediction of Parameters affecting performance of CHE.ipynb",
      "provenance": [],
      "collapsed_sections": []
    },
    "kernelspec": {
      "name": "python3",
      "display_name": "Python 3"
    },
    "language_info": {
      "name": "python"
    }
  },
  "cells": [
    {
      "cell_type": "markdown",
      "source": [
        "## ***Prediction of Parameters Affecting the Performance of Compact Heat Exchanger***"
      ],
      "metadata": {
        "id": "rA1ZTtjidY0y"
      }
    },
    {
      "cell_type": "code",
      "execution_count": null,
      "metadata": {
        "id": "BEPw4ciW5xUy"
      },
      "outputs": [],
      "source": [
        "# importing libraries\n",
        "\n",
        "import numpy as np\n",
        "import pandas as pd\n",
        "import seaborn as sns\n",
        "import matplotlib.pyplot as plt\n",
        "from sklearn.model_selection import train_test_split,GridSearchCV\n",
        "from sklearn.metrics import confusion_matrix, accuracy_score, f1_score, classification_report\n",
        "from sklearn import metrics #Import scikit-learn metrics module for accuracy calculation"
      ]
    },
    {
      "cell_type": "code",
      "source": [
        "data= pd.read_csv(\"Training set - Sheet1.csv\")\n",
        "data.head(5)"
      ],
      "metadata": {
        "colab": {
          "base_uri": "https://localhost:8080/",
          "height": 206
        },
        "id": "xBEfwRMQ5zh-",
        "outputId": "827b0acc-10e8-472b-dfd5-6deddb21b94d"
      },
      "execution_count": null,
      "outputs": [
        {
          "output_type": "execute_result",
          "data": {
            "text/plain": [
              "   mhw   Thw   Thwi   Tcw   Tcwi    mcw   Tcwo  Thwo\n",
              "0    6  55.5  59.70   9.5  14.60   2.90  23.80  40.0\n",
              "1    6  64.8  60.30  26.8  15.10  10.20  41.30  47.1\n",
              "2    6  63.8  60.00  15.8  14.80   6.40  32.10  42.7\n",
              "3    6   0.7   0.09   1.8   0.07   2.00   4.31   1.9\n",
              "4    6  -1.2   0.80   3.3   1.00  -0.04   0.60   0.7"
            ],
            "text/html": [
              "\n",
              "  <div id=\"df-bdc4b20d-4afa-4cf3-a33b-69dc3d6b3984\">\n",
              "    <div class=\"colab-df-container\">\n",
              "      <div>\n",
              "<style scoped>\n",
              "    .dataframe tbody tr th:only-of-type {\n",
              "        vertical-align: middle;\n",
              "    }\n",
              "\n",
              "    .dataframe tbody tr th {\n",
              "        vertical-align: top;\n",
              "    }\n",
              "\n",
              "    .dataframe thead th {\n",
              "        text-align: right;\n",
              "    }\n",
              "</style>\n",
              "<table border=\"1\" class=\"dataframe\">\n",
              "  <thead>\n",
              "    <tr style=\"text-align: right;\">\n",
              "      <th></th>\n",
              "      <th>mhw</th>\n",
              "      <th>Thw</th>\n",
              "      <th>Thwi</th>\n",
              "      <th>Tcw</th>\n",
              "      <th>Tcwi</th>\n",
              "      <th>mcw</th>\n",
              "      <th>Tcwo</th>\n",
              "      <th>Thwo</th>\n",
              "    </tr>\n",
              "  </thead>\n",
              "  <tbody>\n",
              "    <tr>\n",
              "      <th>0</th>\n",
              "      <td>6</td>\n",
              "      <td>55.5</td>\n",
              "      <td>59.70</td>\n",
              "      <td>9.5</td>\n",
              "      <td>14.60</td>\n",
              "      <td>2.90</td>\n",
              "      <td>23.80</td>\n",
              "      <td>40.0</td>\n",
              "    </tr>\n",
              "    <tr>\n",
              "      <th>1</th>\n",
              "      <td>6</td>\n",
              "      <td>64.8</td>\n",
              "      <td>60.30</td>\n",
              "      <td>26.8</td>\n",
              "      <td>15.10</td>\n",
              "      <td>10.20</td>\n",
              "      <td>41.30</td>\n",
              "      <td>47.1</td>\n",
              "    </tr>\n",
              "    <tr>\n",
              "      <th>2</th>\n",
              "      <td>6</td>\n",
              "      <td>63.8</td>\n",
              "      <td>60.00</td>\n",
              "      <td>15.8</td>\n",
              "      <td>14.80</td>\n",
              "      <td>6.40</td>\n",
              "      <td>32.10</td>\n",
              "      <td>42.7</td>\n",
              "    </tr>\n",
              "    <tr>\n",
              "      <th>3</th>\n",
              "      <td>6</td>\n",
              "      <td>0.7</td>\n",
              "      <td>0.09</td>\n",
              "      <td>1.8</td>\n",
              "      <td>0.07</td>\n",
              "      <td>2.00</td>\n",
              "      <td>4.31</td>\n",
              "      <td>1.9</td>\n",
              "    </tr>\n",
              "    <tr>\n",
              "      <th>4</th>\n",
              "      <td>6</td>\n",
              "      <td>-1.2</td>\n",
              "      <td>0.80</td>\n",
              "      <td>3.3</td>\n",
              "      <td>1.00</td>\n",
              "      <td>-0.04</td>\n",
              "      <td>0.60</td>\n",
              "      <td>0.7</td>\n",
              "    </tr>\n",
              "  </tbody>\n",
              "</table>\n",
              "</div>\n",
              "      <button class=\"colab-df-convert\" onclick=\"convertToInteractive('df-bdc4b20d-4afa-4cf3-a33b-69dc3d6b3984')\"\n",
              "              title=\"Convert this dataframe to an interactive table.\"\n",
              "              style=\"display:none;\">\n",
              "        \n",
              "  <svg xmlns=\"http://www.w3.org/2000/svg\" height=\"24px\"viewBox=\"0 0 24 24\"\n",
              "       width=\"24px\">\n",
              "    <path d=\"M0 0h24v24H0V0z\" fill=\"none\"/>\n",
              "    <path d=\"M18.56 5.44l.94 2.06.94-2.06 2.06-.94-2.06-.94-.94-2.06-.94 2.06-2.06.94zm-11 1L8.5 8.5l.94-2.06 2.06-.94-2.06-.94L8.5 2.5l-.94 2.06-2.06.94zm10 10l.94 2.06.94-2.06 2.06-.94-2.06-.94-.94-2.06-.94 2.06-2.06.94z\"/><path d=\"M17.41 7.96l-1.37-1.37c-.4-.4-.92-.59-1.43-.59-.52 0-1.04.2-1.43.59L10.3 9.45l-7.72 7.72c-.78.78-.78 2.05 0 2.83L4 21.41c.39.39.9.59 1.41.59.51 0 1.02-.2 1.41-.59l7.78-7.78 2.81-2.81c.8-.78.8-2.07 0-2.86zM5.41 20L4 18.59l7.72-7.72 1.47 1.35L5.41 20z\"/>\n",
              "  </svg>\n",
              "      </button>\n",
              "      \n",
              "  <style>\n",
              "    .colab-df-container {\n",
              "      display:flex;\n",
              "      flex-wrap:wrap;\n",
              "      gap: 12px;\n",
              "    }\n",
              "\n",
              "    .colab-df-convert {\n",
              "      background-color: #E8F0FE;\n",
              "      border: none;\n",
              "      border-radius: 50%;\n",
              "      cursor: pointer;\n",
              "      display: none;\n",
              "      fill: #1967D2;\n",
              "      height: 32px;\n",
              "      padding: 0 0 0 0;\n",
              "      width: 32px;\n",
              "    }\n",
              "\n",
              "    .colab-df-convert:hover {\n",
              "      background-color: #E2EBFA;\n",
              "      box-shadow: 0px 1px 2px rgba(60, 64, 67, 0.3), 0px 1px 3px 1px rgba(60, 64, 67, 0.15);\n",
              "      fill: #174EA6;\n",
              "    }\n",
              "\n",
              "    [theme=dark] .colab-df-convert {\n",
              "      background-color: #3B4455;\n",
              "      fill: #D2E3FC;\n",
              "    }\n",
              "\n",
              "    [theme=dark] .colab-df-convert:hover {\n",
              "      background-color: #434B5C;\n",
              "      box-shadow: 0px 1px 3px 1px rgba(0, 0, 0, 0.15);\n",
              "      filter: drop-shadow(0px 1px 2px rgba(0, 0, 0, 0.3));\n",
              "      fill: #FFFFFF;\n",
              "    }\n",
              "  </style>\n",
              "\n",
              "      <script>\n",
              "        const buttonEl =\n",
              "          document.querySelector('#df-bdc4b20d-4afa-4cf3-a33b-69dc3d6b3984 button.colab-df-convert');\n",
              "        buttonEl.style.display =\n",
              "          google.colab.kernel.accessAllowed ? 'block' : 'none';\n",
              "\n",
              "        async function convertToInteractive(key) {\n",
              "          const element = document.querySelector('#df-bdc4b20d-4afa-4cf3-a33b-69dc3d6b3984');\n",
              "          const dataTable =\n",
              "            await google.colab.kernel.invokeFunction('convertToInteractive',\n",
              "                                                     [key], {});\n",
              "          if (!dataTable) return;\n",
              "\n",
              "          const docLinkHtml = 'Like what you see? Visit the ' +\n",
              "            '<a target=\"_blank\" href=https://colab.research.google.com/notebooks/data_table.ipynb>data table notebook</a>'\n",
              "            + ' to learn more about interactive tables.';\n",
              "          element.innerHTML = '';\n",
              "          dataTable['output_type'] = 'display_data';\n",
              "          await google.colab.output.renderOutput(dataTable, element);\n",
              "          const docLink = document.createElement('div');\n",
              "          docLink.innerHTML = docLinkHtml;\n",
              "          element.appendChild(docLink);\n",
              "        }\n",
              "      </script>\n",
              "    </div>\n",
              "  </div>\n",
              "  "
            ]
          },
          "metadata": {},
          "execution_count": 108
        }
      ]
    },
    {
      "cell_type": "code",
      "source": [
        "data.info()"
      ],
      "metadata": {
        "colab": {
          "base_uri": "https://localhost:8080/"
        },
        "id": "Wdj8C24yNzy4",
        "outputId": "5d314824-f19c-4429-9edc-9193e28a22f3"
      },
      "execution_count": null,
      "outputs": [
        {
          "output_type": "stream",
          "name": "stdout",
          "text": [
            "<class 'pandas.core.frame.DataFrame'>\n",
            "RangeIndex: 42 entries, 0 to 41\n",
            "Data columns (total 8 columns):\n",
            " #   Column  Non-Null Count  Dtype  \n",
            "---  ------  --------------  -----  \n",
            " 0   mhw     42 non-null     int64  \n",
            " 1   Thw     42 non-null     float64\n",
            " 2   Thwi    42 non-null     float64\n",
            " 3   Tcw     42 non-null     float64\n",
            " 4   Tcwi    42 non-null     float64\n",
            " 5   mcw     42 non-null     float64\n",
            " 6   Tcwo    42 non-null     float64\n",
            " 7   Thwo    42 non-null     float64\n",
            "dtypes: float64(7), int64(1)\n",
            "memory usage: 2.8 KB\n"
          ]
        }
      ]
    },
    {
      "cell_type": "code",
      "source": [
        "data.describe"
      ],
      "metadata": {
        "colab": {
          "base_uri": "https://localhost:8080/"
        },
        "id": "DDFHUkrI6qtE",
        "outputId": "fcb78e8e-4d57-4df9-faec-dce32821e1cf"
      },
      "execution_count": null,
      "outputs": [
        {
          "output_type": "execute_result",
          "data": {
            "text/plain": [
              "<bound method NDFrame.describe of     mhw   Thw   Thwi   Tcw   Tcwi    mcw   Tcwo  Thwo\n",
              "0     6  55.5  59.70   9.5  14.60   2.90  23.80  40.0\n",
              "1     6  64.8  60.30  26.8  15.10  10.20  41.30  47.1\n",
              "2     6  63.8  60.00  15.8  14.80   6.40  32.10  42.7\n",
              "3     6   0.7   0.09   1.8   0.07   2.00   4.31   1.9\n",
              "4     6  -1.2   0.80   3.3   1.00  -0.04   0.60   0.7\n",
              "5     6   2.0   0.08   1.1   2.20  -1.10   0.50  -0.6\n",
              "6     7  59.2  59.90  15.8  14.60   2.90  27.10  41.2\n",
              "7     7  64.9  60.30  26.6  15.50  10.20  42.20  48.7\n",
              "8     7  63.6  59.90  15.8  14.90   6.80  32.70  43.8\n",
              "9     7   0.4   0.08   1.7   0.08   2.30   4.60   2.1\n",
              "10    7  -1.6   0.30   2.7   1.40  -0.10   0.70   0.9\n",
              "11    7   0.4   0.08   1.7   0.08   2.30  -0.50  -0.3\n",
              "12    8  57.0  59.80  14.9  14.60   2.90  28.10  42.7\n",
              "13    8  64.6  60.40  26.1  15.10  10.10  43.30  49.5\n",
              "14    8  63.5  60.00  15.5  14.90   6.20  34.80  45.6\n",
              "15    8   0.8   0.10   1.0   0.10   2.10   4.60   2.1\n",
              "16    8  -3.9   0.30   2.7   0.10   0.10   0.40   0.5\n",
              "17    8   1.4  -0.90   3.3  -1.60  -0.90  -0.90  -0.9\n",
              "18    9  59.5  59.70  14.9  14.60   3.00  29.30  43.7\n",
              "19    9  63.9  60.30  28.6  16.00  10.10  44.20  50.5\n",
              "20    9  63.3  60.00  15.7  14.90   6.30  35.10  46.2\n",
              "21    9   0.5   0.09   1.9   0.10   1.80   3.60   1.6\n",
              "22    9  -3.9  -0.10   5.5   1.80   0.10   0.50   0.6\n",
              "23    9   0.5   0.09   1.9   0.10   1.80  -0.40  -0.3\n",
              "24   10  58.6  59.80  14.9  14.50   3.00  29.80  44.7\n",
              "25   10  65.2  60.40  28.0  15.10  10.00  45.10  51.3\n",
              "26   10  63.5  60.00  15.4  14.80   6.20  36.60  47.6\n",
              "27   10   0.7   0.10   1.2   0.07   2.07   4.30   1.7\n",
              "28   10  -2.1  -0.10   2.9   1.50   0.20   0.30   0.3\n",
              "29   10   0.7   0.10   1.2   0.07   2.00  -0.80  -0.6\n",
              "30   11  62.2  59.80  15.1  14.80   5.90  35.20  47.2\n",
              "31   11  63.7  60.20  15.7  15.20   6.80  36.80  48.2\n",
              "32   11  63.2  60.00  15.4  15.00   6.10  36.20  47.8\n",
              "33   11   0.3   0.10   0.1   0.10   0.20   0.50   0.2\n",
              "34   11  -1.1  -0.02   0.5  -0.80   0.80  -0.60  -0.6\n",
              "35   11   0.2  -0.90  -1.3  -1.10  -1.20  -1.30  -1.2\n",
              "36   12  60.2  59.60  15.1  14.80   2.90  33.10  46.8\n",
              "37   12  63.7  60.10  29.4  15.30   8.10  44.20  52.7\n",
              "38   12  63.2  59.90  16.5  14.90   5.60  37.30  49.4\n",
              "39   12   0.4   0.09   3.1   0.10   1.50   3.20   1.5\n",
              "40   12  -3.6   0.40   3.4   0.10  -0.30   0.70   0.5\n",
              "41   12   1.3  -1.00   1.1  -0.90  -0.90  -0.40  -0.6>"
            ]
          },
          "metadata": {},
          "execution_count": 110
        }
      ]
    },
    {
      "cell_type": "code",
      "source": [
        "X_train=data.iloc[:,0:6]"
      ],
      "metadata": {
        "id": "_1PDak0Q67Xe"
      },
      "execution_count": null,
      "outputs": []
    },
    {
      "cell_type": "code",
      "source": [
        "X_train"
      ],
      "metadata": {
        "colab": {
          "base_uri": "https://localhost:8080/",
          "height": 1000
        },
        "id": "azysszAp7_ug",
        "outputId": "a2464232-3b0f-4dfa-a22b-24862a2e3c7e"
      },
      "execution_count": null,
      "outputs": [
        {
          "output_type": "execute_result",
          "data": {
            "text/plain": [
              "    mhw   Thw   Thwi   Tcw   Tcwi    mcw\n",
              "0     6  55.5  59.70   9.5  14.60   2.90\n",
              "1     6  64.8  60.30  26.8  15.10  10.20\n",
              "2     6  63.8  60.00  15.8  14.80   6.40\n",
              "3     6   0.7   0.09   1.8   0.07   2.00\n",
              "4     6  -1.2   0.80   3.3   1.00  -0.04\n",
              "5     6   2.0   0.08   1.1   2.20  -1.10\n",
              "6     7  59.2  59.90  15.8  14.60   2.90\n",
              "7     7  64.9  60.30  26.6  15.50  10.20\n",
              "8     7  63.6  59.90  15.8  14.90   6.80\n",
              "9     7   0.4   0.08   1.7   0.08   2.30\n",
              "10    7  -1.6   0.30   2.7   1.40  -0.10\n",
              "11    7   0.4   0.08   1.7   0.08   2.30\n",
              "12    8  57.0  59.80  14.9  14.60   2.90\n",
              "13    8  64.6  60.40  26.1  15.10  10.10\n",
              "14    8  63.5  60.00  15.5  14.90   6.20\n",
              "15    8   0.8   0.10   1.0   0.10   2.10\n",
              "16    8  -3.9   0.30   2.7   0.10   0.10\n",
              "17    8   1.4  -0.90   3.3  -1.60  -0.90\n",
              "18    9  59.5  59.70  14.9  14.60   3.00\n",
              "19    9  63.9  60.30  28.6  16.00  10.10\n",
              "20    9  63.3  60.00  15.7  14.90   6.30\n",
              "21    9   0.5   0.09   1.9   0.10   1.80\n",
              "22    9  -3.9  -0.10   5.5   1.80   0.10\n",
              "23    9   0.5   0.09   1.9   0.10   1.80\n",
              "24   10  58.6  59.80  14.9  14.50   3.00\n",
              "25   10  65.2  60.40  28.0  15.10  10.00\n",
              "26   10  63.5  60.00  15.4  14.80   6.20\n",
              "27   10   0.7   0.10   1.2   0.07   2.07\n",
              "28   10  -2.1  -0.10   2.9   1.50   0.20\n",
              "29   10   0.7   0.10   1.2   0.07   2.00\n",
              "30   11  62.2  59.80  15.1  14.80   5.90\n",
              "31   11  63.7  60.20  15.7  15.20   6.80\n",
              "32   11  63.2  60.00  15.4  15.00   6.10\n",
              "33   11   0.3   0.10   0.1   0.10   0.20\n",
              "34   11  -1.1  -0.02   0.5  -0.80   0.80\n",
              "35   11   0.2  -0.90  -1.3  -1.10  -1.20\n",
              "36   12  60.2  59.60  15.1  14.80   2.90\n",
              "37   12  63.7  60.10  29.4  15.30   8.10\n",
              "38   12  63.2  59.90  16.5  14.90   5.60\n",
              "39   12   0.4   0.09   3.1   0.10   1.50\n",
              "40   12  -3.6   0.40   3.4   0.10  -0.30\n",
              "41   12   1.3  -1.00   1.1  -0.90  -0.90"
            ],
            "text/html": [
              "\n",
              "  <div id=\"df-66c7000f-27eb-4be4-8240-60bdf7d57ef4\">\n",
              "    <div class=\"colab-df-container\">\n",
              "      <div>\n",
              "<style scoped>\n",
              "    .dataframe tbody tr th:only-of-type {\n",
              "        vertical-align: middle;\n",
              "    }\n",
              "\n",
              "    .dataframe tbody tr th {\n",
              "        vertical-align: top;\n",
              "    }\n",
              "\n",
              "    .dataframe thead th {\n",
              "        text-align: right;\n",
              "    }\n",
              "</style>\n",
              "<table border=\"1\" class=\"dataframe\">\n",
              "  <thead>\n",
              "    <tr style=\"text-align: right;\">\n",
              "      <th></th>\n",
              "      <th>mhw</th>\n",
              "      <th>Thw</th>\n",
              "      <th>Thwi</th>\n",
              "      <th>Tcw</th>\n",
              "      <th>Tcwi</th>\n",
              "      <th>mcw</th>\n",
              "    </tr>\n",
              "  </thead>\n",
              "  <tbody>\n",
              "    <tr>\n",
              "      <th>0</th>\n",
              "      <td>6</td>\n",
              "      <td>55.5</td>\n",
              "      <td>59.70</td>\n",
              "      <td>9.5</td>\n",
              "      <td>14.60</td>\n",
              "      <td>2.90</td>\n",
              "    </tr>\n",
              "    <tr>\n",
              "      <th>1</th>\n",
              "      <td>6</td>\n",
              "      <td>64.8</td>\n",
              "      <td>60.30</td>\n",
              "      <td>26.8</td>\n",
              "      <td>15.10</td>\n",
              "      <td>10.20</td>\n",
              "    </tr>\n",
              "    <tr>\n",
              "      <th>2</th>\n",
              "      <td>6</td>\n",
              "      <td>63.8</td>\n",
              "      <td>60.00</td>\n",
              "      <td>15.8</td>\n",
              "      <td>14.80</td>\n",
              "      <td>6.40</td>\n",
              "    </tr>\n",
              "    <tr>\n",
              "      <th>3</th>\n",
              "      <td>6</td>\n",
              "      <td>0.7</td>\n",
              "      <td>0.09</td>\n",
              "      <td>1.8</td>\n",
              "      <td>0.07</td>\n",
              "      <td>2.00</td>\n",
              "    </tr>\n",
              "    <tr>\n",
              "      <th>4</th>\n",
              "      <td>6</td>\n",
              "      <td>-1.2</td>\n",
              "      <td>0.80</td>\n",
              "      <td>3.3</td>\n",
              "      <td>1.00</td>\n",
              "      <td>-0.04</td>\n",
              "    </tr>\n",
              "    <tr>\n",
              "      <th>5</th>\n",
              "      <td>6</td>\n",
              "      <td>2.0</td>\n",
              "      <td>0.08</td>\n",
              "      <td>1.1</td>\n",
              "      <td>2.20</td>\n",
              "      <td>-1.10</td>\n",
              "    </tr>\n",
              "    <tr>\n",
              "      <th>6</th>\n",
              "      <td>7</td>\n",
              "      <td>59.2</td>\n",
              "      <td>59.90</td>\n",
              "      <td>15.8</td>\n",
              "      <td>14.60</td>\n",
              "      <td>2.90</td>\n",
              "    </tr>\n",
              "    <tr>\n",
              "      <th>7</th>\n",
              "      <td>7</td>\n",
              "      <td>64.9</td>\n",
              "      <td>60.30</td>\n",
              "      <td>26.6</td>\n",
              "      <td>15.50</td>\n",
              "      <td>10.20</td>\n",
              "    </tr>\n",
              "    <tr>\n",
              "      <th>8</th>\n",
              "      <td>7</td>\n",
              "      <td>63.6</td>\n",
              "      <td>59.90</td>\n",
              "      <td>15.8</td>\n",
              "      <td>14.90</td>\n",
              "      <td>6.80</td>\n",
              "    </tr>\n",
              "    <tr>\n",
              "      <th>9</th>\n",
              "      <td>7</td>\n",
              "      <td>0.4</td>\n",
              "      <td>0.08</td>\n",
              "      <td>1.7</td>\n",
              "      <td>0.08</td>\n",
              "      <td>2.30</td>\n",
              "    </tr>\n",
              "    <tr>\n",
              "      <th>10</th>\n",
              "      <td>7</td>\n",
              "      <td>-1.6</td>\n",
              "      <td>0.30</td>\n",
              "      <td>2.7</td>\n",
              "      <td>1.40</td>\n",
              "      <td>-0.10</td>\n",
              "    </tr>\n",
              "    <tr>\n",
              "      <th>11</th>\n",
              "      <td>7</td>\n",
              "      <td>0.4</td>\n",
              "      <td>0.08</td>\n",
              "      <td>1.7</td>\n",
              "      <td>0.08</td>\n",
              "      <td>2.30</td>\n",
              "    </tr>\n",
              "    <tr>\n",
              "      <th>12</th>\n",
              "      <td>8</td>\n",
              "      <td>57.0</td>\n",
              "      <td>59.80</td>\n",
              "      <td>14.9</td>\n",
              "      <td>14.60</td>\n",
              "      <td>2.90</td>\n",
              "    </tr>\n",
              "    <tr>\n",
              "      <th>13</th>\n",
              "      <td>8</td>\n",
              "      <td>64.6</td>\n",
              "      <td>60.40</td>\n",
              "      <td>26.1</td>\n",
              "      <td>15.10</td>\n",
              "      <td>10.10</td>\n",
              "    </tr>\n",
              "    <tr>\n",
              "      <th>14</th>\n",
              "      <td>8</td>\n",
              "      <td>63.5</td>\n",
              "      <td>60.00</td>\n",
              "      <td>15.5</td>\n",
              "      <td>14.90</td>\n",
              "      <td>6.20</td>\n",
              "    </tr>\n",
              "    <tr>\n",
              "      <th>15</th>\n",
              "      <td>8</td>\n",
              "      <td>0.8</td>\n",
              "      <td>0.10</td>\n",
              "      <td>1.0</td>\n",
              "      <td>0.10</td>\n",
              "      <td>2.10</td>\n",
              "    </tr>\n",
              "    <tr>\n",
              "      <th>16</th>\n",
              "      <td>8</td>\n",
              "      <td>-3.9</td>\n",
              "      <td>0.30</td>\n",
              "      <td>2.7</td>\n",
              "      <td>0.10</td>\n",
              "      <td>0.10</td>\n",
              "    </tr>\n",
              "    <tr>\n",
              "      <th>17</th>\n",
              "      <td>8</td>\n",
              "      <td>1.4</td>\n",
              "      <td>-0.90</td>\n",
              "      <td>3.3</td>\n",
              "      <td>-1.60</td>\n",
              "      <td>-0.90</td>\n",
              "    </tr>\n",
              "    <tr>\n",
              "      <th>18</th>\n",
              "      <td>9</td>\n",
              "      <td>59.5</td>\n",
              "      <td>59.70</td>\n",
              "      <td>14.9</td>\n",
              "      <td>14.60</td>\n",
              "      <td>3.00</td>\n",
              "    </tr>\n",
              "    <tr>\n",
              "      <th>19</th>\n",
              "      <td>9</td>\n",
              "      <td>63.9</td>\n",
              "      <td>60.30</td>\n",
              "      <td>28.6</td>\n",
              "      <td>16.00</td>\n",
              "      <td>10.10</td>\n",
              "    </tr>\n",
              "    <tr>\n",
              "      <th>20</th>\n",
              "      <td>9</td>\n",
              "      <td>63.3</td>\n",
              "      <td>60.00</td>\n",
              "      <td>15.7</td>\n",
              "      <td>14.90</td>\n",
              "      <td>6.30</td>\n",
              "    </tr>\n",
              "    <tr>\n",
              "      <th>21</th>\n",
              "      <td>9</td>\n",
              "      <td>0.5</td>\n",
              "      <td>0.09</td>\n",
              "      <td>1.9</td>\n",
              "      <td>0.10</td>\n",
              "      <td>1.80</td>\n",
              "    </tr>\n",
              "    <tr>\n",
              "      <th>22</th>\n",
              "      <td>9</td>\n",
              "      <td>-3.9</td>\n",
              "      <td>-0.10</td>\n",
              "      <td>5.5</td>\n",
              "      <td>1.80</td>\n",
              "      <td>0.10</td>\n",
              "    </tr>\n",
              "    <tr>\n",
              "      <th>23</th>\n",
              "      <td>9</td>\n",
              "      <td>0.5</td>\n",
              "      <td>0.09</td>\n",
              "      <td>1.9</td>\n",
              "      <td>0.10</td>\n",
              "      <td>1.80</td>\n",
              "    </tr>\n",
              "    <tr>\n",
              "      <th>24</th>\n",
              "      <td>10</td>\n",
              "      <td>58.6</td>\n",
              "      <td>59.80</td>\n",
              "      <td>14.9</td>\n",
              "      <td>14.50</td>\n",
              "      <td>3.00</td>\n",
              "    </tr>\n",
              "    <tr>\n",
              "      <th>25</th>\n",
              "      <td>10</td>\n",
              "      <td>65.2</td>\n",
              "      <td>60.40</td>\n",
              "      <td>28.0</td>\n",
              "      <td>15.10</td>\n",
              "      <td>10.00</td>\n",
              "    </tr>\n",
              "    <tr>\n",
              "      <th>26</th>\n",
              "      <td>10</td>\n",
              "      <td>63.5</td>\n",
              "      <td>60.00</td>\n",
              "      <td>15.4</td>\n",
              "      <td>14.80</td>\n",
              "      <td>6.20</td>\n",
              "    </tr>\n",
              "    <tr>\n",
              "      <th>27</th>\n",
              "      <td>10</td>\n",
              "      <td>0.7</td>\n",
              "      <td>0.10</td>\n",
              "      <td>1.2</td>\n",
              "      <td>0.07</td>\n",
              "      <td>2.07</td>\n",
              "    </tr>\n",
              "    <tr>\n",
              "      <th>28</th>\n",
              "      <td>10</td>\n",
              "      <td>-2.1</td>\n",
              "      <td>-0.10</td>\n",
              "      <td>2.9</td>\n",
              "      <td>1.50</td>\n",
              "      <td>0.20</td>\n",
              "    </tr>\n",
              "    <tr>\n",
              "      <th>29</th>\n",
              "      <td>10</td>\n",
              "      <td>0.7</td>\n",
              "      <td>0.10</td>\n",
              "      <td>1.2</td>\n",
              "      <td>0.07</td>\n",
              "      <td>2.00</td>\n",
              "    </tr>\n",
              "    <tr>\n",
              "      <th>30</th>\n",
              "      <td>11</td>\n",
              "      <td>62.2</td>\n",
              "      <td>59.80</td>\n",
              "      <td>15.1</td>\n",
              "      <td>14.80</td>\n",
              "      <td>5.90</td>\n",
              "    </tr>\n",
              "    <tr>\n",
              "      <th>31</th>\n",
              "      <td>11</td>\n",
              "      <td>63.7</td>\n",
              "      <td>60.20</td>\n",
              "      <td>15.7</td>\n",
              "      <td>15.20</td>\n",
              "      <td>6.80</td>\n",
              "    </tr>\n",
              "    <tr>\n",
              "      <th>32</th>\n",
              "      <td>11</td>\n",
              "      <td>63.2</td>\n",
              "      <td>60.00</td>\n",
              "      <td>15.4</td>\n",
              "      <td>15.00</td>\n",
              "      <td>6.10</td>\n",
              "    </tr>\n",
              "    <tr>\n",
              "      <th>33</th>\n",
              "      <td>11</td>\n",
              "      <td>0.3</td>\n",
              "      <td>0.10</td>\n",
              "      <td>0.1</td>\n",
              "      <td>0.10</td>\n",
              "      <td>0.20</td>\n",
              "    </tr>\n",
              "    <tr>\n",
              "      <th>34</th>\n",
              "      <td>11</td>\n",
              "      <td>-1.1</td>\n",
              "      <td>-0.02</td>\n",
              "      <td>0.5</td>\n",
              "      <td>-0.80</td>\n",
              "      <td>0.80</td>\n",
              "    </tr>\n",
              "    <tr>\n",
              "      <th>35</th>\n",
              "      <td>11</td>\n",
              "      <td>0.2</td>\n",
              "      <td>-0.90</td>\n",
              "      <td>-1.3</td>\n",
              "      <td>-1.10</td>\n",
              "      <td>-1.20</td>\n",
              "    </tr>\n",
              "    <tr>\n",
              "      <th>36</th>\n",
              "      <td>12</td>\n",
              "      <td>60.2</td>\n",
              "      <td>59.60</td>\n",
              "      <td>15.1</td>\n",
              "      <td>14.80</td>\n",
              "      <td>2.90</td>\n",
              "    </tr>\n",
              "    <tr>\n",
              "      <th>37</th>\n",
              "      <td>12</td>\n",
              "      <td>63.7</td>\n",
              "      <td>60.10</td>\n",
              "      <td>29.4</td>\n",
              "      <td>15.30</td>\n",
              "      <td>8.10</td>\n",
              "    </tr>\n",
              "    <tr>\n",
              "      <th>38</th>\n",
              "      <td>12</td>\n",
              "      <td>63.2</td>\n",
              "      <td>59.90</td>\n",
              "      <td>16.5</td>\n",
              "      <td>14.90</td>\n",
              "      <td>5.60</td>\n",
              "    </tr>\n",
              "    <tr>\n",
              "      <th>39</th>\n",
              "      <td>12</td>\n",
              "      <td>0.4</td>\n",
              "      <td>0.09</td>\n",
              "      <td>3.1</td>\n",
              "      <td>0.10</td>\n",
              "      <td>1.50</td>\n",
              "    </tr>\n",
              "    <tr>\n",
              "      <th>40</th>\n",
              "      <td>12</td>\n",
              "      <td>-3.6</td>\n",
              "      <td>0.40</td>\n",
              "      <td>3.4</td>\n",
              "      <td>0.10</td>\n",
              "      <td>-0.30</td>\n",
              "    </tr>\n",
              "    <tr>\n",
              "      <th>41</th>\n",
              "      <td>12</td>\n",
              "      <td>1.3</td>\n",
              "      <td>-1.00</td>\n",
              "      <td>1.1</td>\n",
              "      <td>-0.90</td>\n",
              "      <td>-0.90</td>\n",
              "    </tr>\n",
              "  </tbody>\n",
              "</table>\n",
              "</div>\n",
              "      <button class=\"colab-df-convert\" onclick=\"convertToInteractive('df-66c7000f-27eb-4be4-8240-60bdf7d57ef4')\"\n",
              "              title=\"Convert this dataframe to an interactive table.\"\n",
              "              style=\"display:none;\">\n",
              "        \n",
              "  <svg xmlns=\"http://www.w3.org/2000/svg\" height=\"24px\"viewBox=\"0 0 24 24\"\n",
              "       width=\"24px\">\n",
              "    <path d=\"M0 0h24v24H0V0z\" fill=\"none\"/>\n",
              "    <path d=\"M18.56 5.44l.94 2.06.94-2.06 2.06-.94-2.06-.94-.94-2.06-.94 2.06-2.06.94zm-11 1L8.5 8.5l.94-2.06 2.06-.94-2.06-.94L8.5 2.5l-.94 2.06-2.06.94zm10 10l.94 2.06.94-2.06 2.06-.94-2.06-.94-.94-2.06-.94 2.06-2.06.94z\"/><path d=\"M17.41 7.96l-1.37-1.37c-.4-.4-.92-.59-1.43-.59-.52 0-1.04.2-1.43.59L10.3 9.45l-7.72 7.72c-.78.78-.78 2.05 0 2.83L4 21.41c.39.39.9.59 1.41.59.51 0 1.02-.2 1.41-.59l7.78-7.78 2.81-2.81c.8-.78.8-2.07 0-2.86zM5.41 20L4 18.59l7.72-7.72 1.47 1.35L5.41 20z\"/>\n",
              "  </svg>\n",
              "      </button>\n",
              "      \n",
              "  <style>\n",
              "    .colab-df-container {\n",
              "      display:flex;\n",
              "      flex-wrap:wrap;\n",
              "      gap: 12px;\n",
              "    }\n",
              "\n",
              "    .colab-df-convert {\n",
              "      background-color: #E8F0FE;\n",
              "      border: none;\n",
              "      border-radius: 50%;\n",
              "      cursor: pointer;\n",
              "      display: none;\n",
              "      fill: #1967D2;\n",
              "      height: 32px;\n",
              "      padding: 0 0 0 0;\n",
              "      width: 32px;\n",
              "    }\n",
              "\n",
              "    .colab-df-convert:hover {\n",
              "      background-color: #E2EBFA;\n",
              "      box-shadow: 0px 1px 2px rgba(60, 64, 67, 0.3), 0px 1px 3px 1px rgba(60, 64, 67, 0.15);\n",
              "      fill: #174EA6;\n",
              "    }\n",
              "\n",
              "    [theme=dark] .colab-df-convert {\n",
              "      background-color: #3B4455;\n",
              "      fill: #D2E3FC;\n",
              "    }\n",
              "\n",
              "    [theme=dark] .colab-df-convert:hover {\n",
              "      background-color: #434B5C;\n",
              "      box-shadow: 0px 1px 3px 1px rgba(0, 0, 0, 0.15);\n",
              "      filter: drop-shadow(0px 1px 2px rgba(0, 0, 0, 0.3));\n",
              "      fill: #FFFFFF;\n",
              "    }\n",
              "  </style>\n",
              "\n",
              "      <script>\n",
              "        const buttonEl =\n",
              "          document.querySelector('#df-66c7000f-27eb-4be4-8240-60bdf7d57ef4 button.colab-df-convert');\n",
              "        buttonEl.style.display =\n",
              "          google.colab.kernel.accessAllowed ? 'block' : 'none';\n",
              "\n",
              "        async function convertToInteractive(key) {\n",
              "          const element = document.querySelector('#df-66c7000f-27eb-4be4-8240-60bdf7d57ef4');\n",
              "          const dataTable =\n",
              "            await google.colab.kernel.invokeFunction('convertToInteractive',\n",
              "                                                     [key], {});\n",
              "          if (!dataTable) return;\n",
              "\n",
              "          const docLinkHtml = 'Like what you see? Visit the ' +\n",
              "            '<a target=\"_blank\" href=https://colab.research.google.com/notebooks/data_table.ipynb>data table notebook</a>'\n",
              "            + ' to learn more about interactive tables.';\n",
              "          element.innerHTML = '';\n",
              "          dataTable['output_type'] = 'display_data';\n",
              "          await google.colab.output.renderOutput(dataTable, element);\n",
              "          const docLink = document.createElement('div');\n",
              "          docLink.innerHTML = docLinkHtml;\n",
              "          element.appendChild(docLink);\n",
              "        }\n",
              "      </script>\n",
              "    </div>\n",
              "  </div>\n",
              "  "
            ]
          },
          "metadata": {},
          "execution_count": 112
        }
      ]
    },
    {
      "cell_type": "code",
      "source": [
        "X_train.info()"
      ],
      "metadata": {
        "colab": {
          "base_uri": "https://localhost:8080/"
        },
        "id": "hzhbjDHt-H4H",
        "outputId": "3a6d58f5-1b19-4bf3-af6d-8d3c48c98240"
      },
      "execution_count": null,
      "outputs": [
        {
          "output_type": "stream",
          "name": "stdout",
          "text": [
            "<class 'pandas.core.frame.DataFrame'>\n",
            "RangeIndex: 42 entries, 0 to 41\n",
            "Data columns (total 6 columns):\n",
            " #   Column  Non-Null Count  Dtype  \n",
            "---  ------  --------------  -----  \n",
            " 0   mhw     42 non-null     int64  \n",
            " 1   Thw     42 non-null     float64\n",
            " 2   Thwi    42 non-null     float64\n",
            " 3   Tcw     42 non-null     float64\n",
            " 4   Tcwi    42 non-null     float64\n",
            " 5   mcw     42 non-null     float64\n",
            "dtypes: float64(5), int64(1)\n",
            "memory usage: 2.1 KB\n"
          ]
        }
      ]
    },
    {
      "cell_type": "code",
      "source": [
        "temp1_train=data['Tcwo']"
      ],
      "metadata": {
        "id": "8xAhO6Lx8EeG"
      },
      "execution_count": null,
      "outputs": []
    },
    {
      "cell_type": "code",
      "source": [
        "temp2_train=data['Thwo']"
      ],
      "metadata": {
        "id": "u8Cxw5da8KAT"
      },
      "execution_count": null,
      "outputs": []
    },
    {
      "cell_type": "code",
      "source": [
        "data1= pd.read_csv(\"Test set - Sheet1.csv\")\n",
        "data1.head(5)"
      ],
      "metadata": {
        "colab": {
          "base_uri": "https://localhost:8080/",
          "height": 206
        },
        "id": "ORrXfj9L8_hu",
        "outputId": "7264ef33-e7e7-4d65-849f-3b9c2c3c8ad7"
      },
      "execution_count": null,
      "outputs": [
        {
          "output_type": "execute_result",
          "data": {
            "text/plain": [
              "   mhw   Thw   Thwi   Tcw   Tcwi    mcw  Tcwo  Thwo\n",
              "0    6  57.2  59.90  15.2  14.60   2.90  23.8  40.0\n",
              "1    6  64.8  60.30  25.9  15.10  10.10  41.3  47.1\n",
              "2    6  63.8  60.00  15.7  14.80   6.30  32.3  42.8\n",
              "3    6   0.7   0.08   1.6   0.07   2.00   4.2   1.9\n",
              "4    6  -2.7   0.90   2.9   1.10   0.05   0.5   0.6"
            ],
            "text/html": [
              "\n",
              "  <div id=\"df-e400c93a-1564-4cd2-97ef-e1adf42785de\">\n",
              "    <div class=\"colab-df-container\">\n",
              "      <div>\n",
              "<style scoped>\n",
              "    .dataframe tbody tr th:only-of-type {\n",
              "        vertical-align: middle;\n",
              "    }\n",
              "\n",
              "    .dataframe tbody tr th {\n",
              "        vertical-align: top;\n",
              "    }\n",
              "\n",
              "    .dataframe thead th {\n",
              "        text-align: right;\n",
              "    }\n",
              "</style>\n",
              "<table border=\"1\" class=\"dataframe\">\n",
              "  <thead>\n",
              "    <tr style=\"text-align: right;\">\n",
              "      <th></th>\n",
              "      <th>mhw</th>\n",
              "      <th>Thw</th>\n",
              "      <th>Thwi</th>\n",
              "      <th>Tcw</th>\n",
              "      <th>Tcwi</th>\n",
              "      <th>mcw</th>\n",
              "      <th>Tcwo</th>\n",
              "      <th>Thwo</th>\n",
              "    </tr>\n",
              "  </thead>\n",
              "  <tbody>\n",
              "    <tr>\n",
              "      <th>0</th>\n",
              "      <td>6</td>\n",
              "      <td>57.2</td>\n",
              "      <td>59.90</td>\n",
              "      <td>15.2</td>\n",
              "      <td>14.60</td>\n",
              "      <td>2.90</td>\n",
              "      <td>23.8</td>\n",
              "      <td>40.0</td>\n",
              "    </tr>\n",
              "    <tr>\n",
              "      <th>1</th>\n",
              "      <td>6</td>\n",
              "      <td>64.8</td>\n",
              "      <td>60.30</td>\n",
              "      <td>25.9</td>\n",
              "      <td>15.10</td>\n",
              "      <td>10.10</td>\n",
              "      <td>41.3</td>\n",
              "      <td>47.1</td>\n",
              "    </tr>\n",
              "    <tr>\n",
              "      <th>2</th>\n",
              "      <td>6</td>\n",
              "      <td>63.8</td>\n",
              "      <td>60.00</td>\n",
              "      <td>15.7</td>\n",
              "      <td>14.80</td>\n",
              "      <td>6.30</td>\n",
              "      <td>32.3</td>\n",
              "      <td>42.8</td>\n",
              "    </tr>\n",
              "    <tr>\n",
              "      <th>3</th>\n",
              "      <td>6</td>\n",
              "      <td>0.7</td>\n",
              "      <td>0.08</td>\n",
              "      <td>1.6</td>\n",
              "      <td>0.07</td>\n",
              "      <td>2.00</td>\n",
              "      <td>4.2</td>\n",
              "      <td>1.9</td>\n",
              "    </tr>\n",
              "    <tr>\n",
              "      <th>4</th>\n",
              "      <td>6</td>\n",
              "      <td>-2.7</td>\n",
              "      <td>0.90</td>\n",
              "      <td>2.9</td>\n",
              "      <td>1.10</td>\n",
              "      <td>0.05</td>\n",
              "      <td>0.5</td>\n",
              "      <td>0.6</td>\n",
              "    </tr>\n",
              "  </tbody>\n",
              "</table>\n",
              "</div>\n",
              "      <button class=\"colab-df-convert\" onclick=\"convertToInteractive('df-e400c93a-1564-4cd2-97ef-e1adf42785de')\"\n",
              "              title=\"Convert this dataframe to an interactive table.\"\n",
              "              style=\"display:none;\">\n",
              "        \n",
              "  <svg xmlns=\"http://www.w3.org/2000/svg\" height=\"24px\"viewBox=\"0 0 24 24\"\n",
              "       width=\"24px\">\n",
              "    <path d=\"M0 0h24v24H0V0z\" fill=\"none\"/>\n",
              "    <path d=\"M18.56 5.44l.94 2.06.94-2.06 2.06-.94-2.06-.94-.94-2.06-.94 2.06-2.06.94zm-11 1L8.5 8.5l.94-2.06 2.06-.94-2.06-.94L8.5 2.5l-.94 2.06-2.06.94zm10 10l.94 2.06.94-2.06 2.06-.94-2.06-.94-.94-2.06-.94 2.06-2.06.94z\"/><path d=\"M17.41 7.96l-1.37-1.37c-.4-.4-.92-.59-1.43-.59-.52 0-1.04.2-1.43.59L10.3 9.45l-7.72 7.72c-.78.78-.78 2.05 0 2.83L4 21.41c.39.39.9.59 1.41.59.51 0 1.02-.2 1.41-.59l7.78-7.78 2.81-2.81c.8-.78.8-2.07 0-2.86zM5.41 20L4 18.59l7.72-7.72 1.47 1.35L5.41 20z\"/>\n",
              "  </svg>\n",
              "      </button>\n",
              "      \n",
              "  <style>\n",
              "    .colab-df-container {\n",
              "      display:flex;\n",
              "      flex-wrap:wrap;\n",
              "      gap: 12px;\n",
              "    }\n",
              "\n",
              "    .colab-df-convert {\n",
              "      background-color: #E8F0FE;\n",
              "      border: none;\n",
              "      border-radius: 50%;\n",
              "      cursor: pointer;\n",
              "      display: none;\n",
              "      fill: #1967D2;\n",
              "      height: 32px;\n",
              "      padding: 0 0 0 0;\n",
              "      width: 32px;\n",
              "    }\n",
              "\n",
              "    .colab-df-convert:hover {\n",
              "      background-color: #E2EBFA;\n",
              "      box-shadow: 0px 1px 2px rgba(60, 64, 67, 0.3), 0px 1px 3px 1px rgba(60, 64, 67, 0.15);\n",
              "      fill: #174EA6;\n",
              "    }\n",
              "\n",
              "    [theme=dark] .colab-df-convert {\n",
              "      background-color: #3B4455;\n",
              "      fill: #D2E3FC;\n",
              "    }\n",
              "\n",
              "    [theme=dark] .colab-df-convert:hover {\n",
              "      background-color: #434B5C;\n",
              "      box-shadow: 0px 1px 3px 1px rgba(0, 0, 0, 0.15);\n",
              "      filter: drop-shadow(0px 1px 2px rgba(0, 0, 0, 0.3));\n",
              "      fill: #FFFFFF;\n",
              "    }\n",
              "  </style>\n",
              "\n",
              "      <script>\n",
              "        const buttonEl =\n",
              "          document.querySelector('#df-e400c93a-1564-4cd2-97ef-e1adf42785de button.colab-df-convert');\n",
              "        buttonEl.style.display =\n",
              "          google.colab.kernel.accessAllowed ? 'block' : 'none';\n",
              "\n",
              "        async function convertToInteractive(key) {\n",
              "          const element = document.querySelector('#df-e400c93a-1564-4cd2-97ef-e1adf42785de');\n",
              "          const dataTable =\n",
              "            await google.colab.kernel.invokeFunction('convertToInteractive',\n",
              "                                                     [key], {});\n",
              "          if (!dataTable) return;\n",
              "\n",
              "          const docLinkHtml = 'Like what you see? Visit the ' +\n",
              "            '<a target=\"_blank\" href=https://colab.research.google.com/notebooks/data_table.ipynb>data table notebook</a>'\n",
              "            + ' to learn more about interactive tables.';\n",
              "          element.innerHTML = '';\n",
              "          dataTable['output_type'] = 'display_data';\n",
              "          await google.colab.output.renderOutput(dataTable, element);\n",
              "          const docLink = document.createElement('div');\n",
              "          docLink.innerHTML = docLinkHtml;\n",
              "          element.appendChild(docLink);\n",
              "        }\n",
              "      </script>\n",
              "    </div>\n",
              "  </div>\n",
              "  "
            ]
          },
          "metadata": {},
          "execution_count": 116
        }
      ]
    },
    {
      "cell_type": "code",
      "source": [
        "data1.info()"
      ],
      "metadata": {
        "colab": {
          "base_uri": "https://localhost:8080/"
        },
        "id": "jDcOKxY4M-hA",
        "outputId": "840d7188-9afb-4ca3-8c60-56d5f75f2f37"
      },
      "execution_count": null,
      "outputs": [
        {
          "output_type": "stream",
          "name": "stdout",
          "text": [
            "<class 'pandas.core.frame.DataFrame'>\n",
            "RangeIndex: 42 entries, 0 to 41\n",
            "Data columns (total 8 columns):\n",
            " #   Column  Non-Null Count  Dtype  \n",
            "---  ------  --------------  -----  \n",
            " 0   mhw     42 non-null     int64  \n",
            " 1   Thw     42 non-null     float64\n",
            " 2   Thwi    42 non-null     float64\n",
            " 3   Tcw     42 non-null     float64\n",
            " 4   Tcwi    42 non-null     float64\n",
            " 5   mcw     42 non-null     float64\n",
            " 6   Tcwo    42 non-null     float64\n",
            " 7   Thwo    42 non-null     float64\n",
            "dtypes: float64(7), int64(1)\n",
            "memory usage: 2.8 KB\n"
          ]
        }
      ]
    },
    {
      "cell_type": "code",
      "source": [
        "X_test=data1.iloc[:,0:6]"
      ],
      "metadata": {
        "id": "Bz4AgTC69Jh1"
      },
      "execution_count": null,
      "outputs": []
    },
    {
      "cell_type": "code",
      "source": [
        "temp1_test=data1['Tcwo']"
      ],
      "metadata": {
        "id": "N8oQy24N9Vt9"
      },
      "execution_count": null,
      "outputs": []
    },
    {
      "cell_type": "code",
      "source": [
        "temp2_test=data1['Thwo']"
      ],
      "metadata": {
        "id": "m5-jd3pM9has"
      },
      "execution_count": null,
      "outputs": []
    },
    {
      "cell_type": "code",
      "source": [
        "from sklearn.preprocessing import StandardScaler\n",
        "scaler= StandardScaler()\n",
        "\n",
        "X_train= scaler.fit_transform(X_train)\n",
        "X_test= scaler.fit_transform(X_test)"
      ],
      "metadata": {
        "id": "v4L9BLDI80nL"
      },
      "execution_count": null,
      "outputs": []
    },
    {
      "cell_type": "markdown",
      "source": [
        "## Multiple Linear Regression and Artificial Neural Networks Algorithms are used For the prediction of Thwo and Tcwo Values"
      ],
      "metadata": {
        "id": "L7mEV3LKeGBw"
      }
    },
    {
      "cell_type": "markdown",
      "source": [
        "## Multiple Linear Regression"
      ],
      "metadata": {
        "id": "FC2qQHjXLRxR"
      }
    },
    {
      "cell_type": "code",
      "source": [
        "import numpy as np\n",
        "from sklearn.linear_model import LinearRegression"
      ],
      "metadata": {
        "id": "HjkiNTFVLQva"
      },
      "execution_count": null,
      "outputs": []
    },
    {
      "cell_type": "markdown",
      "source": [
        "### For prediction of Tcwo"
      ],
      "metadata": {
        "id": "TzB8hOu3ZSnZ"
      }
    },
    {
      "cell_type": "code",
      "source": [
        "reg= LinearRegression().fit(X_train, temp1_train)"
      ],
      "metadata": {
        "id": "SB_IGb0LLmIT"
      },
      "execution_count": null,
      "outputs": []
    },
    {
      "cell_type": "code",
      "source": [
        "output1=reg.predict(X_test)\n"
      ],
      "metadata": {
        "id": "7VnXrJIsLyss"
      },
      "execution_count": null,
      "outputs": []
    },
    {
      "cell_type": "code",
      "source": [
        "reg.score(X_train, temp1_train)"
      ],
      "metadata": {
        "colab": {
          "base_uri": "https://localhost:8080/"
        },
        "id": "JBOR59xAMa82",
        "outputId": "756e2139-fbb2-4af0-ad2c-e6c494af0ae4"
      },
      "execution_count": null,
      "outputs": [
        {
          "output_type": "execute_result",
          "data": {
            "text/plain": [
              "0.9936138213032514"
            ]
          },
          "metadata": {},
          "execution_count": 137
        }
      ]
    },
    {
      "cell_type": "code",
      "source": [
        "print('Accuracy of Multiple Linear Regression is:',reg.score(X_test, temp1_test))"
      ],
      "metadata": {
        "colab": {
          "base_uri": "https://localhost:8080/"
        },
        "id": "ckwly39FWrq4",
        "outputId": "b2b0b8c1-43fa-463b-b1cb-28520b5d33f2"
      },
      "execution_count": null,
      "outputs": [
        {
          "output_type": "stream",
          "name": "stdout",
          "text": [
            "Accuracy of Multiple Linear Regression is: 0.9217268653624169\n"
          ]
        }
      ]
    },
    {
      "cell_type": "markdown",
      "source": [
        "### For prediction of Thwo"
      ],
      "metadata": {
        "id": "oWjdmcThZZcg"
      }
    },
    {
      "cell_type": "code",
      "source": [
        "reg1= LinearRegression().fit(X_train, temp2_train)"
      ],
      "metadata": {
        "id": "3AAKlWFwYj4Z"
      },
      "execution_count": null,
      "outputs": []
    },
    {
      "cell_type": "code",
      "source": [
        "reg1.score(X_train, temp2_train)"
      ],
      "metadata": {
        "colab": {
          "base_uri": "https://localhost:8080/"
        },
        "id": "eiepQVNDY1iA",
        "outputId": "789fe35a-5bd9-4572-c217-1d24477d1af1"
      },
      "execution_count": null,
      "outputs": [
        {
          "output_type": "execute_result",
          "data": {
            "text/plain": [
              "0.9976699668115995"
            ]
          },
          "metadata": {},
          "execution_count": 145
        }
      ]
    },
    {
      "cell_type": "code",
      "source": [
        "output2=reg1.predict(X_test)"
      ],
      "metadata": {
        "id": "vYqGRhRKYoEn"
      },
      "execution_count": null,
      "outputs": []
    },
    {
      "cell_type": "code",
      "source": [
        "print('Accuracy of Multiple Linear Regression is:',reg.score(X_test, temp2_test))"
      ],
      "metadata": {
        "colab": {
          "base_uri": "https://localhost:8080/"
        },
        "id": "RK-MlPH6Ys-h",
        "outputId": "7575dd6f-980a-443f-c777-5a105aaf0297"
      },
      "execution_count": null,
      "outputs": [
        {
          "output_type": "stream",
          "name": "stdout",
          "text": [
            "Accuracy of Multiple Linear Regression is: 0.8294099503986314\n"
          ]
        }
      ]
    },
    {
      "cell_type": "markdown",
      "source": [
        "## Artificial Neural Network"
      ],
      "metadata": {
        "id": "TXu7r79lZjKJ"
      }
    },
    {
      "cell_type": "code",
      "source": [
        "# import required libraries\n",
        "from sklearn.neural_network import MLPRegressor"
      ],
      "metadata": {
        "id": "Xh4I6lblZpTY"
      },
      "execution_count": null,
      "outputs": []
    },
    {
      "cell_type": "markdown",
      "source": [
        "### For Prediction of Tcwo "
      ],
      "metadata": {
        "id": "aSWN8Zg5dFeQ"
      }
    },
    {
      "cell_type": "code",
      "source": [
        "clf = MLPRegressor(hidden_layer_sizes=(100,),random_state=1, max_iter=300)"
      ],
      "metadata": {
        "id": "zUwPu626aSdQ"
      },
      "execution_count": null,
      "outputs": []
    },
    {
      "cell_type": "code",
      "source": [
        "clf.fit(X_train, temp1_train)"
      ],
      "metadata": {
        "colab": {
          "base_uri": "https://localhost:8080/"
        },
        "id": "o0r6PysQa90Q",
        "outputId": "d868f677-d729-4a86-9b07-13ed415163ea"
      },
      "execution_count": null,
      "outputs": [
        {
          "output_type": "stream",
          "name": "stderr",
          "text": [
            "/usr/local/lib/python3.7/dist-packages/sklearn/neural_network/_multilayer_perceptron.py:696: ConvergenceWarning: Stochastic Optimizer: Maximum iterations (300) reached and the optimization hasn't converged yet.\n",
            "  ConvergenceWarning,\n"
          ]
        },
        {
          "output_type": "execute_result",
          "data": {
            "text/plain": [
              "MLPRegressor(max_iter=300, random_state=1)"
            ]
          },
          "metadata": {},
          "execution_count": 155
        }
      ]
    },
    {
      "cell_type": "code",
      "source": [
        "clf.predict(X_test)"
      ],
      "metadata": {
        "id": "otrt4RKhbn_P"
      },
      "execution_count": null,
      "outputs": []
    },
    {
      "cell_type": "code",
      "source": [
        "mlp1=clf.predict(X_test)"
      ],
      "metadata": {
        "id": "vZ1FiF2pcGSk"
      },
      "execution_count": null,
      "outputs": []
    },
    {
      "cell_type": "code",
      "source": [
        "print('Accuracy of MLP ANN Regressor is:',clf.score(X_test, temp1_test))"
      ],
      "metadata": {
        "colab": {
          "base_uri": "https://localhost:8080/"
        },
        "id": "lluuMGumbuYY",
        "outputId": "30e66274-12c8-4d25-b897-873c1f9f0327"
      },
      "execution_count": null,
      "outputs": [
        {
          "output_type": "stream",
          "name": "stdout",
          "text": [
            "Accuracy of MLP ANN Regressor is: 0.9839850678338016\n"
          ]
        }
      ]
    },
    {
      "cell_type": "markdown",
      "source": [
        "### For prediction of Thwo"
      ],
      "metadata": {
        "id": "7iywEgWVcavX"
      }
    },
    {
      "cell_type": "code",
      "source": [
        "clf1 = MLPRegressor(hidden_layer_sizes=(100,),random_state=1, max_iter=300)"
      ],
      "metadata": {
        "id": "iuQ4RoqKct_h"
      },
      "execution_count": null,
      "outputs": []
    },
    {
      "cell_type": "code",
      "source": [
        "clf1.fit(X_train, temp2_train)"
      ],
      "metadata": {
        "colab": {
          "base_uri": "https://localhost:8080/"
        },
        "id": "Rrhb9k8MchWZ",
        "outputId": "55dffc1a-abba-4b64-cd67-af1f55dd6044"
      },
      "execution_count": null,
      "outputs": [
        {
          "output_type": "stream",
          "name": "stderr",
          "text": [
            "/usr/local/lib/python3.7/dist-packages/sklearn/neural_network/_multilayer_perceptron.py:696: ConvergenceWarning: Stochastic Optimizer: Maximum iterations (300) reached and the optimization hasn't converged yet.\n",
            "  ConvergenceWarning,\n"
          ]
        },
        {
          "output_type": "execute_result",
          "data": {
            "text/plain": [
              "MLPRegressor(max_iter=300, random_state=1)"
            ]
          },
          "metadata": {},
          "execution_count": 163
        }
      ]
    },
    {
      "cell_type": "code",
      "source": [
        "clf1.predict(X_test)"
      ],
      "metadata": {
        "colab": {
          "base_uri": "https://localhost:8080/"
        },
        "id": "5WKFr5qEckbw",
        "outputId": "2d105550-59cb-49dc-d6de-fd15e3f0d41e"
      },
      "execution_count": null,
      "outputs": [
        {
          "output_type": "execute_result",
          "data": {
            "text/plain": [
              "array([ 2.92441137e+01,  5.20321396e+01,  3.76998764e+01,  1.55985974e+00,\n",
              "        7.62191020e-01,  1.92133404e-01,  3.07457605e+01,  4.09121929e+01,\n",
              "        3.94381797e+01,  1.33578713e+00,  3.91423266e-01, -8.65345924e-02,\n",
              "        3.14358269e+01,  5.27633605e+01,  3.93085835e+01,  8.78284627e-01,\n",
              "        3.65276362e-01,  4.95892350e-01,  3.32207449e+01,  5.67884254e+01,\n",
              "        4.06799089e+01,  7.35014476e-01,  3.44272219e-01,  2.79373643e+00,\n",
              "        3.41052528e+01,  5.76460292e+01,  4.18805188e+01,  7.75927190e-01,\n",
              "        3.18678218e-01, -3.59396812e-02,  4.15331997e+01,  4.41649521e+01,\n",
              "        4.26569514e+01,  9.43921343e-02,  1.26172424e-01, -6.13606462e-01,\n",
              "        3.68778722e+01,  5.66196621e+01,  4.35931968e+01,  6.41276021e-01,\n",
              "        6.66654219e-02, -6.65774862e-02])"
            ]
          },
          "metadata": {},
          "execution_count": 164
        }
      ]
    },
    {
      "cell_type": "code",
      "source": [
        "print('Accuracy of MLP ANN Regressor is:',clf1.score(X_test, temp2_test))"
      ],
      "metadata": {
        "colab": {
          "base_uri": "https://localhost:8080/"
        },
        "id": "MfRhCfevc3zh",
        "outputId": "a50508d4-d99d-4548-853f-9217c6ff9f17"
      },
      "execution_count": null,
      "outputs": [
        {
          "output_type": "stream",
          "name": "stdout",
          "text": [
            "Accuracy of MLP ANN Regressor is: 0.9493341619326822\n"
          ]
        }
      ]
    },
    {
      "cell_type": "markdown",
      "source": [
        "## **From the results of two differnt algorithms, it can be observed that ANN is performing better in predictions as compared to Multiple Linear Regression**\n"
      ],
      "metadata": {
        "id": "GmUq7bfledHZ"
      }
    },
    {
      "cell_type": "markdown",
      "source": [
        "### Average Accuracy of Multiple Linear Regression: 87.5 %\n",
        "### Average Accuracy of ANN: 98 %"
      ],
      "metadata": {
        "id": "XVflzz9xe5pQ"
      }
    }
  ]
}